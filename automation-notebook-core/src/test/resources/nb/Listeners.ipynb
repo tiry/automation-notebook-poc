{
 "cells": [
  {
   "cell_type": "markdown",
   "metadata": {},
   "source": [
    "Testing an Automation Listener"
   ]
  },
  {
   "cell_type": "code",
   "execution_count": null,
   "metadata": {},
   "outputs": [],
   "source": [
    "@Operation(id = \"Scripting.Listener\")\n",
    "function run(input, params) {\n",
    "\n",
    "    Console.log(\"from js listener\");\n",
    "    // check input\n",
    "    Console.logAsJson(input);\n",
    "    Console.logAsJson(params);\n",
    "\n",
    "    // dump the whole context\n",
    "    Debug.dumpCtx();\n",
    "    \n",
    "    // introspection example\n",
    "    Console.log(\"Introspection Example\");    \n",
    "    Debug.introspect(ctx.Event);\n",
    "    \n",
    "    var doc = ctx.Event.getContext().getSourceDocument();\n",
    "    \n",
    "    doc.setPropertyValue(\"dc:source\",\"updated from listener\");   \n",
    "    \n",
    "    if (doc.id==null) {\n",
    "        Console.log(\"Called via Sync Listener\");\n",
    "    } else {\n",
    "        Console.log(\"Called via Async Listener\");\n",
    "        // need to save the document\n",
    "        ctx.Event.getContext().getCoreSession().saveDocument(doc);\n",
    "    }\n",
    "    \n",
    "    \n",
    "}"
   ]
  },
  {
   "cell_type": "markdown",
   "metadata": {},
   "source": [
    "Do a test running the script from inside a synchronous listener"
   ]
  },
  {
   "cell_type": "code",
   "execution_count": null,
   "metadata": {},
   "outputs": [],
   "source": [
    "@Test(id = \"TestingSynchronousListener\")\n",
    "Harness.registerListener('aboutToCreate','Scripting.Listener',true);\n",
    "\n",
    "\n",
    "var root = Repository.GetDocument(null, {\n",
    "        \"value\" : \"/\"\n",
    "    });\n",
    "\n",
    "var newDoc = Document.Create(root, {\n",
    "        \"type\" : \"File\",\n",
    "        \"name\" : \"newDoc\",\n",
    "        \"properties\" : {\n",
    "            \"dc:title\" : \"whathever\"\n",
    "        }\n",
    "    });\n",
    "\n",
    "Assert.assertTrue(newDoc.getPropertyValue(\"dc:source\").equals(\"updated from listener\"))\n",
    "    "
   ]
  },
  {
   "cell_type": "markdown",
   "metadata": {},
   "source": [
    "Do a test running the script from inside an  **a**synchronous listener"
   ]
  },
  {
   "cell_type": "code",
   "execution_count": null,
   "metadata": {},
   "outputs": [],
   "source": [
    "@Test(id = \"TestingAsynchronousListener\")\n",
    "Console.log(\"starting listener testing\");\n",
    "\n",
    "Harness.registerListener('documentCreated','Scripting.Listener',false);\n",
    "\n",
    "var root = Repository.GetDocument(null, {\n",
    "        \"value\" : \"/\"\n",
    "    });\n",
    "\n",
    "var newDoc = Document.Create(root, {\n",
    "        \"type\" : \"File\",\n",
    "        \"name\" : \"newDoc\",\n",
    "        \"properties\" : {\n",
    "            \"dc:title\" : \"whathever\"\n",
    "        }\n",
    "    });\n",
    "\n",
    "Console.log(\"created test Document \" + newDoc.id);\n",
    "\n",
    "Harness.waitForAsync();\n",
    "\n",
    "\n",
    "newDoc = Repository.GetDocument(null, {\n",
    "        \"value\" : newDoc.id\n",
    "    });\n",
    "\n",
    "Assert.assertTrue(newDoc.getPropertyValue(\"dc:source\").equals(\"updated from listener\"))\n",
    "\n",
    "Console.log(\"end of listener testing\");\n",
    "\n"
   ]
  }
 ],
 "metadata": {
  "kernelspec": {
   "display_name": "Nuxeo Automation",
   "language": "javascript",
   "name": "nuxeokernel"
  },
  "language_info": {
   "__codemirror_mode": {
    "json": true,
    "name": "javascript"
   },
   "file_extension": ".js",
   "mimetype": "text/javascript",
   "name": "javascript"
  }
 },
 "nbformat": 4,
 "nbformat_minor": 2
}
